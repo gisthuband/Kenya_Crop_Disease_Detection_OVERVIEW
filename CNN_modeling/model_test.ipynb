{
 "cells": [
  {
   "cell_type": "code",
   "execution_count": 1,
   "metadata": {},
   "outputs": [],
   "source": [
    "# Libraries importation\n",
    "from ultralytics import YOLO\n",
    "from glob import glob\n",
    "from sklearn.metrics import accuracy_score"
   ]
  },
  {
   "cell_type": "code",
   "execution_count": 2,
   "metadata": {},
   "outputs": [],
   "source": [
    "# Load our trained model\n",
    "model = YOLO(\"C:/Users/savadogo_abdoul/Desktop/test_gpu/runs/classify/train/weights/best.pt\")\n",
    "\n",
    "# Create a function for predicting crop disease\n",
    "def cropPrediction(model, input_image):\n",
    "  \"\"\" \n",
    "  function for predicting crop disease\n",
    "  Input Parameters:\n",
    "  model --> the trained model for prediction --> .pt file\n",
    "  input_image --> image path of the image to be predicted --> str\n",
    "  Output:\n",
    "  predicted_label --> returning the crop disease --> str\n",
    "  \"\"\"\n",
    "  # Predict with the model\n",
    "  results = model.predict(input_image, save=False, verbose=False)\n",
    "  labels_names = results[0].names\n",
    "  pred_cls_idx = [result.probs.top1 for result in results]\n",
    "  pred_cls_idx = pred_cls_idx[0]\n",
    "  predicted_label = labels_names[pred_cls_idx]\n",
    "  return predicted_label\n"
   ]
  },
  {
   "cell_type": "code",
   "execution_count": 3,
   "metadata": {},
   "outputs": [
    {
     "name": "stdout",
     "output_type": "stream",
     "text": [
      "Predicted Label: Bacterial Spot\n"
     ]
    }
   ],
   "source": [
    "predImage = \"./split_data/test/Bacterial Spot/Bs6.JPG\" # test img path on your local dir\n",
    "predlabel = cropPrediction(model, predImage)\n",
    "print(f\"Predicted Label: {predlabel}\")"
   ]
  },
  {
   "cell_type": "code",
   "execution_count": 4,
   "metadata": {},
   "outputs": [
    {
     "data": {
      "text/plain": [
       "{0: 'Bacterial Spot',\n",
       " 1: 'Black Mold',\n",
       " 2: 'Early Blight',\n",
       " 3: 'Gray spot',\n",
       " 4: 'Healthy',\n",
       " 5: 'Late Blight',\n",
       " 6: 'Leaf Mold',\n",
       " 7: 'Mosaic Virus',\n",
       " 8: 'Septoria leaf spot',\n",
       " 9: 'Target Spot',\n",
       " 10: 'Yellow_Leaf_Virus'}"
      ]
     },
     "execution_count": 4,
     "metadata": {},
     "output_type": "execute_result"
    }
   ],
   "source": [
    "model.names"
   ]
  },
  {
   "cell_type": "code",
   "execution_count": 5,
   "metadata": {},
   "outputs": [
    {
     "name": "stdout",
     "output_type": "stream",
     "text": [
      "{'Bacterial Spot': 0, 'Black Mold': 1, 'Early Blight': 2, 'Gray spot': 3, 'Healthy': 4, 'Late Blight': 5, 'Leaf Mold': 6, 'Mosaic Virus': 7, 'Septoria leaf spot': 8, 'Target Spot': 9, 'Yellow_Leaf_Virus': 10}\n"
     ]
    }
   ],
   "source": [
    "# Swap keys and values\n",
    "mapping_dict = {value: key for key, value in model.names.items()}\n",
    "print(mapping_dict)"
   ]
  },
  {
   "cell_type": "code",
   "execution_count": 6,
   "metadata": {},
   "outputs": [
    {
     "name": "stdout",
     "output_type": "stream",
     "text": [
      "[INFO]: Prediction Completed\n"
     ]
    }
   ],
   "source": [
    "groundtruth_label_list = list()\n",
    "predicted_label_list = list()                          \n",
    "\n",
    "for imgs in glob(\"./split_data/test/*/*\"):\n",
    "    groundtruth_label = imgs.split(\"\\\\\")[-2]\n",
    "    groundtruth_label_list.append(mapping_dict[groundtruth_label])                             \n",
    "    predicted_label = cropPrediction(model, imgs)\n",
    "    predicted_label_list.append(mapping_dict[predicted_label])                             \n",
    "print(\"[INFO]: Prediction Completed\")"
   ]
  },
  {
   "cell_type": "code",
   "execution_count": 8,
   "metadata": {},
   "outputs": [
    {
     "name": "stdout",
     "output_type": "stream",
     "text": [
      "0\n",
      "0\n"
     ]
    }
   ],
   "source": [
    "# Sanity check\n",
    "print(predicted_label_list[10])\n",
    "print(groundtruth_label_list[10])"
   ]
  },
  {
   "cell_type": "code",
   "execution_count": 9,
   "metadata": {},
   "outputs": [
    {
     "name": "stdout",
     "output_type": "stream",
     "text": [
      "Accuracy: 0.9908256880733946\n"
     ]
    }
   ],
   "source": [
    "# Calculate accuracy\n",
    "test_accuracy = accuracy_score(groundtruth_label_list, predicted_label_list)\n",
    "print(f\"Accuracy: {test_accuracy}\")\n"
   ]
  },
  {
   "cell_type": "code",
   "execution_count": null,
   "metadata": {},
   "outputs": [],
   "source": []
  }
 ],
 "metadata": {
  "kernelspec": {
   "display_name": "trainenv",
   "language": "python",
   "name": "python3"
  },
  "language_info": {
   "codemirror_mode": {
    "name": "ipython",
    "version": 3
   },
   "file_extension": ".py",
   "mimetype": "text/x-python",
   "name": "python",
   "nbconvert_exporter": "python",
   "pygments_lexer": "ipython3",
   "version": "3.12.7"
  }
 },
 "nbformat": 4,
 "nbformat_minor": 2
}
